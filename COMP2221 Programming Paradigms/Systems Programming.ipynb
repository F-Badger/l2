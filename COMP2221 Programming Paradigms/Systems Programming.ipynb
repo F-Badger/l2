{
 "cells": [
  {
   "cell_type": "markdown",
   "id": "584bd798-9b44-4f51-9a28-51c2d1538da9",
   "metadata": {},
   "source": [
    "# Systems Programming\n",
    "\n",
    "## C Basics"
   ]
  },
  {
   "cell_type": "code",
   "execution_count": 47,
   "id": "bed0ab06-a997-4c6a-ac51-92adf797621e",
   "metadata": {},
   "outputs": [
    {
     "name": "stdout",
     "output_type": "stream",
     "text": [
      "Hello, World!\n"
     ]
    }
   ],
   "source": [
    "// Hello World in C\n",
    "#include <stdio.h>\n",
    "int main() {\n",
    "    printf(\"Hello, World!\\n\");\n",
    "    return 0;\n",
    "}\n",
    "main();"
   ]
  },
  {
   "cell_type": "markdown",
   "id": "c3c99641-15cf-4edf-8b35-9ad7471d657a",
   "metadata": {},
   "source": [
    "### Pre-processor commands\n",
    "Lines that begin with `#` are commands the C pre-processor. The line `#include <stdio.h>` looks for the source code file `stdio.h`  and includes it before compilation. This is a file required to use the standard input and output library, such as the `printf` function. \n",
    "\n",
    "### The `main()` function\n",
    "All C programs have an entry function called `main()`. This is called by the runtime system in order to start the program running. Every C program must have exactly one `main()`, which must return an integer. Only functions called in this function will be executed. \n",
    "\n",
    "### The `printf()` function\n",
    "The `printf()` function is used to print formatted text to the console. "
   ]
  },
  {
   "cell_type": "code",
   "execution_count": 2,
   "id": "646472ad-0421-438f-ac0f-22de974722e2",
   "metadata": {},
   "outputs": [
    {
     "name": "stdout",
     "output_type": "stream",
     "text": [
      "We've got rectal bleeding.\n",
      "What, all of you?"
     ]
    }
   ],
   "source": [
    "printf(\"We've got rectal bleeding.\\n\");\n",
    "printf(\"What, all of you?\");"
   ]
  },
  {
   "cell_type": "markdown",
   "id": "738fe4c4-647a-436b-af61-7f689fa640ba",
   "metadata": {},
   "source": [
    "The `printf()` function  does not automatically add a new line - the newline character `\\n` must be used to move to the next line. "
   ]
  },
  {
   "cell_type": "code",
   "execution_count": 3,
   "id": "318200c7-a5dd-48d8-b66d-c402a9a619ee",
   "metadata": {},
   "outputs": [
    {
     "name": "stdout",
     "output_type": "stream",
     "text": [
      "We've got rectal bleeding.\n",
      "What, all of you?"
     ]
    }
   ],
   "source": [
    "printf(\"We've got rectal bleeding.\\n\");\n",
    "printf(\"What, all of you?\");"
   ]
  },
  {
   "cell_type": "markdown",
   "id": "ad3ce713-b0f4-4b36-af99-45cf04cdd5e8",
   "metadata": {},
   "source": [
    "The `printf()` function uses a number of format specifiers to control the format of the output. These are used in the first parameter, which describes how the remaining parameters are to be formatted:\n",
    "- `%d` - signed decimal (`int`)\n",
    "- `%u` - unsigned decimal\n",
    "- `%o`, `%x` - octal, hexadecimal\n",
    "- `%l` - long integer (used to store numbers larger than 4 bytes, the limit for `int`). Must be combined with one of the specifiers above, e.g. `%ld`, `%lx`\n",
    "- `%f` - floating point\n",
    "- `%.nf` - floating point with `n` decimals\n",
    "- `%e` - floating point in exponent form\n",
    "- `%c`, `%s` - character, string"
   ]
  },
  {
   "cell_type": "code",
   "execution_count": 4,
   "id": "af46115f-6227-4b36-8a97-ccc8f6dd0947",
   "metadata": {},
   "outputs": [
    {
     "name": "stdout",
     "output_type": "stream",
     "text": [
      "Signed int: -15\n",
      "Unsigned int: 4294967281\n",
      "Octal: 37777777761\n",
      "Long: 999999999999999999\n",
      "Float: 3.141590\n",
      "Float (2d.p): 3.14\n",
      "Exponent: 3.141590e+00\n",
      "Char: f\n",
      "String: lupus\n"
     ]
    }
   ],
   "source": [
    "#include <stdio.h>\n",
    "int main() {\n",
    "    int a = -15;\n",
    "    long b = 999999999999999999;\n",
    "    float c = 3.14159;\n",
    "    char d = 'f';\n",
    "    char e[] = \"lupus\";\n",
    "    \n",
    "    printf(\"Signed int: %d\\n\", a);\n",
    "    printf(\"Unsigned int: %u\\n\", a);\n",
    "    printf(\"Octal: %o\\n\", a);\n",
    "    printf(\"Long: %ld\\n\", b);\n",
    "    printf(\"Float: %f\\n\", c);\n",
    "    printf(\"Float (2d.p): %.2f\\n\", c);\n",
    "    printf(\"Exponent: %e\\n\", c);\n",
    "    printf(\"Char: %c\\n\", d);\n",
    "    printf(\"String: %s\\n\", e);\n",
    "    \n",
    "    return 0;\n",
    "}\n",
    "main();"
   ]
  },
  {
   "cell_type": "markdown",
   "id": "e226b3e6-df04-4075-9525-ae46e1324276",
   "metadata": {},
   "source": [
    "### The function `return` statement\n",
    "The `return` function is used to immediately exit a function, optionally sending a value back to the caller.\n",
    "\n",
    "The return value from the `main()` function is special, with programs usually returning a zero value to indicate they have exited normally. \n",
    "If there is no `return` statement in the `main()` function, this generally will not cause a problem at compile-time (with the compiler assuming a return statement of `return 0;`).  \n",
    "\n",
    "If the return value is of the wrong type, this may cause a warning at compile-time, or an error at run-time. \n",
    "\n",
    "## Compiling\n",
    "\n",
    "![Compilation Stages](compiling.png)\n",
    "\n",
    "### The C Pre-processor\n",
    "\n",
    "The C pre-processor is a program that runs before compilation, modifying the source code according to the pre-processor directives. Such directives include `#define` e.g. `#define PI 3.14151` and `#include` e.g. `#include <stdio.h>`.\n",
    "\n",
    "`#define` is used to define a macro, which is essentially a name for a value or a code snippet. The pre-processor replaces every occurence of the macro with its replacement text before the code is compiled.\n",
    "\n",
    "When using `#include`:\n",
    "- if `< >` are used, the system directory (`usr/include`)  is prioritised\n",
    "- if `\" \"` are used, the current working directory is used\n",
    "  - the appropriate delimiters should be used depending on the type of header file e.g. system or user-defined\n",
    "\n",
    "#### Conditional compilation\n",
    "Conditional compilation allows the compiler to include or skip parts of code depending on whether certain macros are defined. This can be very useful for debugging."
   ]
  },
  {
   "cell_type": "code",
   "execution_count": 5,
   "id": "854b4550-a3c7-4914-9fcb-03424ea95133",
   "metadata": {},
   "outputs": [
    {
     "name": "stdout",
     "output_type": "stream",
     "text": [
      "Program started\n",
      "Debug mode is OFF\n"
     ]
    }
   ],
   "source": [
    "#include <stdio.h>\n",
    "\n",
    "// Uncomment to enable debug mode\n",
    "//#define DEBUG\n",
    "\n",
    "int main() {\n",
    "    printf(\"Program started\\n\");\n",
    "\n",
    "#ifdef DEBUG\n",
    "    printf(\"Debug mode is ON\\n\");\n",
    "#else\n",
    "    printf(\"Debug mode is OFF\\n\");\n",
    "#endif\n",
    "    return 0;\n",
    "}\n",
    "main();"
   ]
  },
  {
   "cell_type": "code",
   "execution_count": 6,
   "id": "3aa83a80-11e7-4867-a0ca-9595952da945",
   "metadata": {},
   "outputs": [
    {
     "name": "stdout",
     "output_type": "stream",
     "text": [
      "Program started\n",
      "Debug mode is ON\n"
     ]
    }
   ],
   "source": [
    "#include <stdio.h>\n",
    "\n",
    "// Comment to enable debug mode\n",
    "#define DEBUG\n",
    "\n",
    "int main() {\n",
    "    printf(\"Program started\\n\");\n",
    "\n",
    "#ifdef DEBUG\n",
    "    printf(\"Debug mode is ON\\n\");\n",
    "#else\n",
    "    printf(\"Debug mode is OFF\\n\");\n",
    "#endif\n",
    "    return 0;\n",
    "}\n",
    "main();"
   ]
  },
  {
   "cell_type": "markdown",
   "id": "803c3c57-51c7-4764-bea9-22af8508a64e",
   "metadata": {},
   "source": [
    "#### Parameterised macros \n",
    "\n",
    "A parameterised (function-like) macro accepts parameters and uses them in its replacement text. They act like inline functions, but the replacment is done textually by the pre-processor before compilation, preventing the need for actual function calls. \n",
    "\n",
    "The parameters may appear as many times as desired in the replacement text. "
   ]
  },
  {
   "cell_type": "code",
   "execution_count": 7,
   "id": "e2e49e2c-1cd5-4c16-be85-8460187b6e66",
   "metadata": {},
   "outputs": [
    {
     "name": "stdout",
     "output_type": "stream",
     "text": [
      "Sum: 8\n",
      "Sum: 10\n"
     ]
    }
   ],
   "source": [
    "#include <stdio.h>\n",
    "\n",
    "#define ADD(a, b) ((a) + (b))  // Parameterized macro\n",
    "\n",
    "int main() {\n",
    "    int x = 5, y = 3;\n",
    "\n",
    "    printf(\"Sum: %d\\n\", ADD(x, y));      // replaced by ((x) + (y))\n",
    "    printf(\"Sum: %d\\n\", ADD(2+3, 4+1));  // replaced by ((2+3) + (4+1)) = 10\n",
    "\n",
    "    return 0;\n",
    "}\n",
    "main();"
   ]
  },
  {
   "cell_type": "markdown",
   "id": "3489bbe9-0465-4a7a-a847-39bc36788f87",
   "metadata": {},
   "source": [
    "Using parameterised macros may make a program slightly faster, since a function call usually requires some overhead during program execution, but a macro invocation does not. Furthermore, macros are 'generic' - they can accept arguements of any type, provided that the resulting program is valid. \n",
    "\n",
    "However, this can also be a disadvantage, as arguements aren't checked or converted to the correct type by the pre-processor, whereas in a function, the compiler checks each arguement to see if it has the appropriate type. Since macros work as direct substitutions in code, it is important to always use brackets to the fullest extent possible to prevent any unexepected results.  "
   ]
  },
  {
   "cell_type": "markdown",
   "id": "4b7a61ca-81d7-43b0-a0d5-b75de27b9387",
   "metadata": {},
   "source": [
    "## The Shell\n",
    "\n",
    "A shell is a powerful command-line interface (CLI) thats allows the user to interact with the operating system (OS) by typing commands. This includes the ability to:\n",
    "- run programs\n",
    "- control how programs work\n",
    "- move around between different directories/folders\n",
    "- perform sequences of commands to achieve more complex work\n",
    "\n",
    "There are a number of different shells, such as bash and PowerShell. \n",
    "\n",
    "### Basic Commands\n",
    "\n",
    "Some basic commands are given below. \n",
    "\n",
    "Note: the `!` before each command is not needed when using an actual shell (it is only necessary since this is a Jupyter Notebook)\n",
    "\n",
    "`pwd` - *Print working directory*"
   ]
  },
  {
   "cell_type": "code",
   "execution_count": 1,
   "id": "e1f4156b-f7c7-4ac0-93ab-3cb712c35a51",
   "metadata": {},
   "outputs": [
    {
     "name": "stdout",
     "output_type": "stream",
     "text": [
      "/mnt/d/Notebooks/COMP2221 Programming Paradigms\n"
     ]
    }
   ],
   "source": [
    "!pwd "
   ]
  },
  {
   "cell_type": "markdown",
   "id": "b2bea992-5946-4389-8a82-4ab73fb290af",
   "metadata": {},
   "source": [
    "`ls` - *List*"
   ]
  },
  {
   "cell_type": "code",
   "execution_count": 2,
   "id": "d02641a6-3cbc-4afe-a93d-beb24f74c8e1",
   "metadata": {},
   "outputs": [
    {
     "name": "stdout",
     "output_type": "stream",
     "text": [
      "Systems Programming.ipynb\n",
      "compiling.png\n"
     ]
    }
   ],
   "source": [
    "!ls "
   ]
  },
  {
   "cell_type": "markdown",
   "id": "12aec13f-189c-47fd-87a3-1c4991a4b0ea",
   "metadata": {},
   "source": [
    "`man` - *Manual*"
   ]
  },
  {
   "cell_type": "code",
   "execution_count": 19,
   "id": "782b6d6a-c64d-4c3e-bde6-77e648d22787",
   "metadata": {},
   "outputs": [
    {
     "name": "stdout",
     "output_type": "stream",
     "text": [
      "LS(1)                            User Commands                           LS(1)\n",
      "\n",
      "NAME\n",
      "       ls - list directory contents\n",
      "\n",
      "SYNOPSIS\n",
      "       ls [OPTION]... [FILE]...\n",
      "\n",
      "DESCRIPTION\n",
      "       List  information  about  the FILEs (the current directory by default).\n",
      "       Sort entries alphabetically if none of -cftuvSUX nor --sort  is  speci‐\n",
      "       fied.\n",
      "\n",
      "       Mandatory  arguments  to  long  options are mandatory for short options\n",
      "       too.\n",
      "\n",
      "       -a, --all\n",
      "              do not ignore entries starting with .\n",
      "\n",
      "       -A, --almost-all\n",
      "              do not list implied . and ..\n",
      "\n",
      "       --author\n",
      "              with -l, print the author of each file\n",
      "\n",
      "       -b, --escape\n",
      "              print C-style escapes for nongraphic characters\n",
      "\n",
      "       --block-size=SIZE\n",
      "              with  -l,  scale  sizes  by  SIZE  when  printing  them;   e.g.,\n",
      "              '--block-size=M'; see SIZE format below\n",
      "\n",
      "       -B, --ignore-backups\n",
      "              do not list implied entries ending with ~\n",
      "\n",
      "       -c     with  -lt: sort by, and show, ctime (time of last change of file\n",
      "              status information); with -l: show ctime and sort by name;  oth‐\n",
      "              erwise: sort by ctime, newest first\n",
      "\n",
      "       -C     list entries by columns\n",
      "\n",
      "       --color[=WHEN]\n",
      "              color the output WHEN; more info below\n",
      "\n",
      "       -d, --directory\n",
      "              list directories themselves, not their contents\n",
      "\n",
      "       -D, --dired\n",
      "              generate output designed for Emacs' dired mode\n",
      "\n",
      "       -f     list all entries in directory order\n",
      "\n",
      "       -F, --classify[=WHEN]\n",
      "              append indicator (one of */=>@|) to entries WHEN\n",
      "\n",
      "       --file-type\n",
      "              likewise, except do not append '*'\n",
      "\n",
      "       --format=WORD\n",
      "              across  -x, commas -m, horizontal -x, long -l, single-column -1,\n",
      "              verbose -l, vertical -C\n",
      "\n",
      "       --full-time\n",
      "              like -l --time-style=full-iso\n",
      "\n",
      "       -g     like -l, but do not list owner\n",
      "\n",
      "       --group-directories-first\n",
      "              group directories before files; can be augmented with  a  --sort\n",
      "              option, but any use of --sort=none (-U) disables grouping\n",
      "\n",
      "       -G, --no-group\n",
      "              in a long listing, don't print group names\n",
      "\n",
      "       -h, --human-readable\n",
      "              with -l and -s, print sizes like 1K 234M 2G etc.\n",
      "\n",
      "       --si   likewise, but use powers of 1000 not 1024\n",
      "\n",
      "       -H, --dereference-command-line\n",
      "              follow symbolic links listed on the command line\n",
      "\n",
      "       --dereference-command-line-symlink-to-dir\n",
      "              follow  each  command line symbolic link that points to a direc‐\n",
      "              tory\n",
      "\n",
      "       --hide=PATTERN\n",
      "              do not list implied entries matching shell  PATTERN  (overridden\n",
      "              by -a or -A)\n",
      "\n",
      "       --hyperlink[=WHEN]\n",
      "              hyperlink file names WHEN\n",
      "\n",
      "       --indicator-style=WORD\n",
      "              append indicator with style WORD to entry names: none (default),\n",
      "              slash (-p), file-type (--file-type), classify (-F)\n",
      "\n",
      "       -i, --inode\n",
      "              print the index number of each file\n",
      "\n",
      "       -I, --ignore=PATTERN\n",
      "              do not list implied entries matching shell PATTERN\n",
      "\n",
      "       -k, --kibibytes\n",
      "              default  to  1024-byte  blocks  for file system usage; used only\n",
      "              with -s and per directory totals\n",
      "\n",
      "       -l     use a long listing format\n",
      "\n",
      "       -L, --dereference\n",
      "              when showing file information for a symbolic link, show informa‐\n",
      "              tion for the file the link references rather than for  the  link\n",
      "              itself\n",
      "\n",
      "       -m     fill width with a comma separated list of entries\n",
      "\n",
      "       -n, --numeric-uid-gid\n",
      "              like -l, but list numeric user and group IDs\n",
      "\n",
      "       -N, --literal\n",
      "              print entry names without quoting\n",
      "\n",
      "       -o     like -l, but do not list group information\n",
      "\n",
      "       -p, --indicator-style=slash\n",
      "              append / indicator to directories\n",
      "\n",
      "       -q, --hide-control-chars\n",
      "              print ? instead of nongraphic characters\n",
      "\n",
      "       --show-control-chars\n",
      "              show nongraphic characters as-is (the default, unless program is\n",
      "              'ls' and output is a terminal)\n",
      "\n",
      "       -Q, --quote-name\n",
      "              enclose entry names in double quotes\n",
      "\n",
      "       --quoting-style=WORD\n",
      "              use  quoting style WORD for entry names: literal, locale, shell,\n",
      "              shell-always,  shell-escape,  shell-escape-always,   c,   escape\n",
      "              (overrides QUOTING_STYLE environment variable)\n",
      "\n",
      "       -r, --reverse\n",
      "              reverse order while sorting\n",
      "\n",
      "       -R, --recursive\n",
      "              list subdirectories recursively\n",
      "\n",
      "       -s, --size\n",
      "              print the allocated size of each file, in blocks\n",
      "\n",
      "       -S     sort by file size, largest first\n",
      "\n",
      "       --sort=WORD\n",
      "              sort  by  WORD instead of name: none (-U), size (-S), time (-t),\n",
      "              version (-v), extension (-X), width\n",
      "\n",
      "       --time=WORD\n",
      "              select which timestamp used to  display  or  sort;  access  time\n",
      "              (-u): atime, access, use; metadata change time (-c): ctime, sta‐\n",
      "              tus;  modified  time (default): mtime, modification; birth time:\n",
      "              birth, creation;\n",
      "\n",
      "              with -l, WORD determines which time to show;  with  --sort=time,\n",
      "              sort by WORD (newest first)\n",
      "\n",
      "       --time-style=TIME_STYLE\n",
      "              time/date format with -l; see TIME_STYLE below\n",
      "\n",
      "       -t     sort by time, newest first; see --time\n",
      "\n",
      "       -T, --tabsize=COLS\n",
      "              assume tab stops at each COLS instead of 8\n",
      "\n",
      "       -u     with  -lt:  sort by, and show, access time; with -l: show access\n",
      "              time and sort by name; otherwise: sort by  access  time,  newest\n",
      "              first\n",
      "\n",
      "       -U     do not sort; list entries in directory order\n",
      "\n",
      "       -v     natural sort of (version) numbers within text\n",
      "\n",
      "       -w, --width=COLS\n",
      "              set output width to COLS.  0 means no limit\n",
      "\n",
      "       -x     list entries by lines instead of by columns\n",
      "\n",
      "       -X     sort alphabetically by entry extension\n",
      "\n",
      "       -Z, --context\n",
      "              print any security context of each file\n",
      "\n",
      "       --zero end each output line with NUL, not newline\n",
      "\n",
      "       -1     list one file per line\n",
      "\n",
      "       --help display this help and exit\n",
      "\n",
      "       --version\n",
      "              output version information and exit\n",
      "\n",
      "       The  SIZE  argument  is  an  integer and optional unit (example: 10K is\n",
      "       10*1024).  Units are K,M,G,T,P,E,Z,Y,R,Q (powers of 1024) or  KB,MB,...\n",
      "       (powers  of 1000).  Binary prefixes can be used, too: KiB=K, MiB=M, and\n",
      "       so on.\n",
      "\n",
      "       The TIME_STYLE argument can be  full-iso,  long-iso,  iso,  locale,  or\n",
      "       +FORMAT.   FORMAT  is  interpreted  like in date(1).  If FORMAT is FOR‐\n",
      "       MAT1<newline>FORMAT2, then FORMAT1 applies to non-recent files and FOR‐\n",
      "       MAT2 to recent files.  TIME_STYLE prefixed with 'posix-'  takes  effect\n",
      "       only  outside  the POSIX locale.  Also the TIME_STYLE environment vari‐\n",
      "       able sets the default style to use.\n",
      "\n",
      "       The WHEN argument defaults to  'always'  and  can  also  be  'auto'  or\n",
      "       'never'.\n",
      "\n",
      "       Using  color  to distinguish file types is disabled both by default and\n",
      "       with --color=never.  With --color=auto, ls emits color codes only  when\n",
      "       standard  output is connected to a terminal.  The LS_COLORS environment\n",
      "       variable can change the settings.  Use the dircolors(1) command to  set\n",
      "       it.\n",
      "\n",
      "   Exit status:\n",
      "       0      if OK,\n",
      "\n",
      "       1      if minor problems (e.g., cannot access subdirectory),\n",
      "\n",
      "       2      if serious trouble (e.g., cannot access command-line argument).\n",
      "\n",
      "AUTHOR\n",
      "       Written by Richard M. Stallman and David MacKenzie.\n",
      "\n",
      "REPORTING BUGS\n",
      "       GNU coreutils online help: <https://www.gnu.org/software/coreutils/>\n",
      "       Report any translation bugs to <https://translationproject.org/team/>\n",
      "\n",
      "COPYRIGHT\n",
      "       Copyright  ©  2023  Free Software Foundation, Inc.  License GPLv3+: GNU\n",
      "       GPL version 3 or later <https://gnu.org/licenses/gpl.html>.\n",
      "       This is free software: you are free  to  change  and  redistribute  it.\n",
      "       There is NO WARRANTY, to the extent permitted by law.\n",
      "\n",
      "SEE ALSO\n",
      "       dircolors(1)\n",
      "\n",
      "       Full documentation <https://www.gnu.org/software/coreutils/ls>\n",
      "       or available locally via: info '(coreutils) ls invocation'\n",
      "\n",
      "GNU coreutils 9.4                  June 2025                             LS(1)\n"
     ]
    }
   ],
   "source": [
    "!man ls"
   ]
  },
  {
   "cell_type": "markdown",
   "id": "426ad92e-161e-4498-b60e-9fc2fcbe873d",
   "metadata": {},
   "source": [
    "`cd` - *Change directory*\n",
    "- `.` *= current directory*\n",
    "- `~` *= home folder*\n",
    "- `..` *= one folder up*"
   ]
  },
  {
   "cell_type": "code",
   "execution_count": 4,
   "id": "7303d579-1134-41e0-baa0-6f0c169d00aa",
   "metadata": {},
   "outputs": [
    {
     "name": "stdout",
     "output_type": "stream",
     "text": [
      "/mnt/d/Notebooks/COMP2221 Programming Paradigms\n"
     ]
    }
   ],
   "source": [
    "!pwd"
   ]
  },
  {
   "cell_type": "code",
   "execution_count": 5,
   "id": "35baca11-a075-4f13-a51d-37d4f707ed34",
   "metadata": {},
   "outputs": [
    {
     "name": "stdout",
     "output_type": "stream",
     "text": [
      "/home/francis\n"
     ]
    }
   ],
   "source": [
    "!cd ~ && pwd"
   ]
  },
  {
   "cell_type": "code",
   "execution_count": 6,
   "id": "23de5bca-92a8-4a3e-927c-aae56449e805",
   "metadata": {},
   "outputs": [
    {
     "name": "stdout",
     "output_type": "stream",
     "text": [
      "/mnt/d/Notebooks\n"
     ]
    }
   ],
   "source": [
    "!cd .. && pwd"
   ]
  },
  {
   "cell_type": "markdown",
   "id": "f185022d-28ff-46ea-9c8e-98998a2be2b9",
   "metadata": {},
   "source": [
    "### `stdin`, `stdout` and `stderr`\n",
    "\n",
    "`stdin`, `stdout` and `stderr` are the three built-in communication channels that each program recieves from the OS when it starts running. They remove the need to worry about I/O devices.\n",
    "- `stdin` (Standard Input) is where programs read data from\n",
    "- `stdout` (Standard Output) is where programs send normal output\n",
    "- `stderr` (Standard Error) is where programs send error messages\n",
    "\n",
    "### Pipes \n",
    "\n",
    "The shell provides many small tools (commands) - the power comes from composing them together. Pipes provide a means to do this. \n",
    "\n",
    "By default, each command takes an input (from the keyboard) and produces an output (to the screen). The input and output of a command can be redirected:\n",
    "- `<` - taken input from a file\n",
    "- `>` - write output to a file\n",
    "  - a single `>` overwrites the file; `>>` appends to the file\n",
    "- `|` - take the output of one command and use at input to the next\n",
    "\n",
    "### `grep`\n",
    "`grep` is a search tool that can be used to search through files or the output of other commands (via pipes). It can search through specific file(s) by providing the filename(s), or it can search through all files in the current directory by using the `-r` recursive flag."
   ]
  },
  {
   "cell_type": "code",
   "execution_count": 7,
   "id": "d520449f-dad1-490f-9474-fdd967c28758",
   "metadata": {},
   "outputs": [
    {
     "name": "stdout",
     "output_type": "stream",
     "text": [
      "    \"A shell is a powerful command-line interface (CLI) thats allows the user to interact with the operating system (OS) by typing commands. This includes the ability to:\\n\",\n",
      "    \"There are a number of different shells, such as bash and PowerShell. \\n\",\n",
      "    \"Note: the `!` before each command is not needed when using an actual shell (it is only necessary since this is a Jupyter Notebook)\\n\",\n",
      "    \"The shell provides many small tools (commands) - the power comes from composing them together. Pipes provide a means to do this. \\n\",\n",
      "      \"    \\\"A shell is a powerful command-line interface (CLI) thats allows the user to interact with the operating system (OS) by typing commands. This includes the ability to:\\\\n\\\",\\n\",\n",
      "      \"    \\\"There are a number of different shells, such as bash and PowerShell. \\\\n\\\",\\n\",\n",
      "      \"    \\\"Note: the `!` before each command is not needed when using an actual shell (it is only necessary since this is a Jupyter Notebook)\\\\n\\\",\\n\",\n",
      "      \"      \\\"              do not list implied entries matching shell  PATTERN  (overridden\\\\n\\\",\\n\",\n",
      "      \"      \\\"              do not list implied entries matching shell PATTERN\\\\n\\\",\\n\",\n",
      "      \"      \\\"              use  quoting style WORD for entry names: literal, locale, shell,\\\\n\\\",\\n\",\n",
      "      \"      \\\"              shell-always,  shell-escape,  shell-escape-always,   c,   escape\\\\n\\\",\\n\",\n",
      "      \"    \\\"The shell provides many small tools (commands) - the power comes from composing them together. Pipes provide a means to do this. \\\\n\\\",\\n\"\n",
      "    \"!grep \\\"shell\\\" \\\"systems programming.ipynb\\\"\"\n"
     ]
    }
   ],
   "source": [
    "!grep \"shell\" \"systems programming.ipynb\""
   ]
  },
  {
   "cell_type": "code",
   "execution_count": 17,
   "id": "aa8a6d7c-d014-44ad-a565-da30d4889b3d",
   "metadata": {},
   "outputs": [
    {
     "name": "stdout",
     "output_type": "stream",
     "text": [
      ".ipynb_checkpoints/Systems Programming-checkpoint.ipynb:    \"`grep` is a search tool that can be used to search through files or the output of other commands (via pipes). It can search through a specific file by providing the filename, or it can search through all files in the current directory by using the `-r` recursive flag.\"\n",
      "Systems Programming.ipynb:    \"`grep` is a search tool that can be used to search through files or the output of other commands (via pipes). It can search through a specific file by providing the filename, or it can search through all files in the current directory by using the `-r` recursive flag.\"\n"
     ]
    }
   ],
   "source": [
    "!grep -r \"pipes\" "
   ]
  },
  {
   "cell_type": "markdown",
   "id": "c2108c8b-4233-4c56-9c24-b02bc5330c23",
   "metadata": {},
   "source": [
    "`grep` uses **regular expressions** for matching text. "
   ]
  },
  {
   "cell_type": "markdown",
   "id": "a8a4eb1d-ecc9-4eae-ad22-e08448094dde",
   "metadata": {},
   "source": [
    "## Regular Expresions\n",
    "Regular expressions provide a concise way to match different strings. They use a specific syntax:\n",
    "- `.` - matches any single character (except a newline character)\n",
    "- `*` - matches zero or more of the preceeding character\n",
    "- `?` - matches zero or one of the preceeding character\n",
    "- `+` - matches one or more of the preceeding character\n",
    "- `[ABC]` - matches one character that is `A`, `B` or `C`\n",
    "- `[A-Z]` - matches any upper case character `A` to `Z`\n",
    "- `[0-9]` - matches any digit\n",
    "\n",
    "For example, the regular expression `[A-Za-z]*[0-9].txt` matches zero or more letters (uppercase or lowercase), followed by exactly one digit and the literal suffix `.txt`.\n",
    "Examples of strings that this expression would match include `MyFile5.txt`, `abc0.txt` and `1.txt`.\n",
    "\n",
    "## File Permissions\n",
    "Every file and directory in UNIX has an access mode controlling who can read, write, or execute it.\n",
    "\n",
    "| Permission | Symbol | Description |\n",
    "|------------|--------|-------------|\n",
    "| Read       | r      | View or copy the file contents |\n",
    "| Write      | w      | Modify or delete the file |\n",
    "| Execute    | x      | Run as a program (for files) or enter (for directories) |\n",
    "\n",
    "\n",
    "There are three permission groups which can each be granted specific permissions:\n",
    "- Owner (user) - the person who created the file\n",
    "- Group - a named collection of users who share the same permissions\n",
    "- Others - everyone else\n",
    "\n",
    "The permission string is a 10 character string that specifies the permissions of the different groups. \n",
    "\n",
    "<img src=\"permission_string.png\" alt=\"Permission String\" width=\"300px\">"
   ]
  }
 ],
 "metadata": {
  "kernelspec": {
   "display_name": "C++11",
   "language": "C++11",
   "name": "xcpp11"
  },
  "language_info": {
   "codemirror_mode": "text/x-c++src",
   "file_extension": ".cpp",
   "mimetype": "text/x-c++src",
   "name": "c++",
   "version": "11"
  }
 },
 "nbformat": 4,
 "nbformat_minor": 5
}

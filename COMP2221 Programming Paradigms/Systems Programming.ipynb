{
 "cells": [
  {
   "cell_type": "markdown",
   "id": "584bd798-9b44-4f51-9a28-51c2d1538da9",
   "metadata": {},
   "source": [
    "# Systems Programming\n",
    "\n",
    "## C Basics"
   ]
  },
  {
   "cell_type": "code",
   "execution_count": 14,
   "id": "bed0ab06-a997-4c6a-ac51-92adf797621e",
   "metadata": {},
   "outputs": [
    {
     "name": "stdout",
     "output_type": "stream",
     "text": [
      "Hello, World!\n"
     ]
    }
   ],
   "source": [
    "// Hello World in C\n",
    "#include <stdio.h>\n",
    "int main() {\n",
    "    printf(\"Hello, World!\\n\");\n",
    "    return 0;\n",
    "}\n",
    "main();"
   ]
  },
  {
   "cell_type": "markdown",
   "id": "c3c99641-15cf-4edf-8b35-9ad7471d657a",
   "metadata": {},
   "source": [
    "### Pre-processor commands\n",
    "Lines that begin with `#` are commands the C pre-processor. The line `#include <stdio.h>` looks for the source code file `stdio.h`  and includes it before compilation. This is a file required to use the standard input and output library, such as the `printf` function. \n",
    "\n",
    "### The `main()` function\n",
    "All C programs have an entry function called `main()`. This is called by the runtime system in order to start the program running. Every C program must have exactly one `main()`, which must return an integer. Only functions called in this function will be executed. \n",
    "\n",
    "### The `printf()` function\n",
    "The `printf()` function is used to print formatted text to the console. "
   ]
  },
  {
   "cell_type": "code",
   "execution_count": 13,
   "id": "646472ad-0421-438f-ac0f-22de974722e2",
   "metadata": {},
   "outputs": [
    {
     "name": "stdout",
     "output_type": "stream",
     "text": [
      "We've got rectal bleeding.\n",
      "What, all of you?"
     ]
    }
   ],
   "source": [
    "printf(\"We've got rectal bleeding.\\n\");\n",
    "printf(\"What, all of you?\");"
   ]
  },
  {
   "cell_type": "markdown",
   "id": "738fe4c4-647a-436b-af61-7f689fa640ba",
   "metadata": {},
   "source": [
    "The `printf()` function  does not automatically add a new line - the newline character `\\n` must be used to move to the next line. "
   ]
  },
  {
   "cell_type": "code",
   "execution_count": 11,
   "id": "318200c7-a5dd-48d8-b66d-c402a9a619ee",
   "metadata": {},
   "outputs": [
    {
     "name": "stdout",
     "output_type": "stream",
     "text": [
      "We've got rectal bleeding.\n",
      "What, all of you?"
     ]
    }
   ],
   "source": [
    "printf(\"We've got rectal bleeding.\\n\");\n",
    "printf(\"What, all of you?\");"
   ]
  },
  {
   "cell_type": "markdown",
   "id": "ad3ce713-b0f4-4b36-af99-45cf04cdd5e8",
   "metadata": {},
   "source": [
    "The `printf()` function uses a number of format specifiers to control the format of the output. These are used in the first parameter, which describes how the remaining parameters are to be formatted:\n",
    "- `%d` - signed decimal (`int`)\n",
    "- `%u` - unsigned decimal\n",
    "- `%o`, `%x` - octal, hexadecimal\n",
    "- `%l` - long integer (used to store numbers larger than 4 bytes, the limit for `int`). Must be combined with one of the specifiers above, e.g. `%ld`, `%lx`\n",
    "- `%f` - floating point\n",
    "- `%.nf` - floating point with `n` decimals\n",
    "- `%e` - floating point in exponent form\n",
    "- `%c`, `%s` - character, string"
   ]
  },
  {
   "cell_type": "code",
   "execution_count": 19,
   "id": "af46115f-6227-4b36-8a97-ccc8f6dd0947",
   "metadata": {},
   "outputs": [
    {
     "name": "stdout",
     "output_type": "stream",
     "text": [
      "Signed int: -15\n",
      "Unsigned int: 4294967281\n",
      "Octal: 37777777761\n",
      "Long: 999999999999999999\n",
      "Float: 3.141590\n",
      "Float (2d.p): 3.14\n",
      "Exponent: 3.141590e+00\n",
      "Char: f\n",
      "String: lupus\n"
     ]
    }
   ],
   "source": [
    "#include <stdio.h>\n",
    "int main() {\n",
    "    int a = -15;\n",
    "    long b = 999999999999999999;\n",
    "    float c = 3.14159;\n",
    "    char d = 'f';\n",
    "    char e[] = \"lupus\";\n",
    "    \n",
    "    printf(\"Signed int: %d\\n\", a);\n",
    "    printf(\"Unsigned int: %u\\n\", a);\n",
    "    printf(\"Octal: %o\\n\", a);\n",
    "    printf(\"Long: %ld\\n\", b);\n",
    "    printf(\"Float: %f\\n\", c);\n",
    "    printf(\"Float (2d.p): %.2f\\n\", c);\n",
    "    printf(\"Exponent: %e\\n\", c);\n",
    "    printf(\"Char: %c\\n\", d);\n",
    "    printf(\"String: %s\\n\", e);\n",
    "    \n",
    "    return 0;\n",
    "}\n",
    "main();"
   ]
  },
  {
   "cell_type": "markdown",
   "id": "e226b3e6-df04-4075-9525-ae46e1324276",
   "metadata": {},
   "source": [
    "### The function `return` statement\n",
    "The `return` function is used to immediately exit a function, optionally sending a value back to the caller.\n",
    "\n",
    "The return value from the `main()` function is special, with programs usually returning a zero value to indicate they have exited normally. \n",
    "If there is no `return` statement in the `main()` function, this generally will not cause a problem at compile-time (with the compiler assuming a return statement of `return 0;`).  \n",
    "\n",
    "If the return value is of the wrong type, this may cause a warning at compile-time, or an error at run-time. \n",
    "\n",
    "## Compiling\n",
    "\n",
    "![Compilation Stages](compiling.png)\n",
    "\n",
    "### The C Pre-processor\n",
    "\n",
    "The C pre-processor is a program that runs before compilation, modifying the source code according to the pre-processor directives. Such directives include `#define` e.g. `#define PI 3.14151` and `#include` e.g. `#include <stdio.h>`.\n",
    "\n",
    "`#define` is used to define a macro, which is essentially a name for a value or a code snippet. The pre-processor replaces every occurence of the macro with its replacement text before the code is compiled.\n",
    "\n",
    "When using `#include`:\n",
    "- if `< >` are used, the system directory (`usr/include`)  is prioritised\n",
    "- if `\" \"` are used, the current working directory is used\n",
    "  - the appropriate delimiters should be used depending on the type of header file e.g. system or user-defined\n",
    "\n",
    "#### Conditional compilation\n",
    "Conditional compilation allows the compiler to include or skip parts of code depending on whether certain macros are defined. This can be very useful for debugging."
   ]
  },
  {
   "cell_type": "code",
   "execution_count": 27,
   "id": "854b4550-a3c7-4914-9fcb-03424ea95133",
   "metadata": {},
   "outputs": [
    {
     "name": "stdout",
     "output_type": "stream",
     "text": [
      "Program started\n",
      "Debug mode is ON\n"
     ]
    }
   ],
   "source": [
    "#include <stdio.h>\n",
    "\n",
    "// Uncomment to enable debug mode\n",
    "//#define DEBUG\n",
    "\n",
    "int main() {\n",
    "    printf(\"Program started\\n\");\n",
    "\n",
    "#ifdef DEBUG\n",
    "    printf(\"Debug mode is ON\\n\");\n",
    "#else\n",
    "    printf(\"Debug mode is OFF\\n\");\n",
    "#endif\n",
    "    return 0;\n",
    "}\n",
    "main();"
   ]
  },
  {
   "cell_type": "code",
   "execution_count": 28,
   "id": "3aa83a80-11e7-4867-a0ca-9595952da945",
   "metadata": {},
   "outputs": [
    {
     "name": "stdout",
     "output_type": "stream",
     "text": [
      "Program started\n",
      "Debug mode is ON\n"
     ]
    }
   ],
   "source": [
    "#include <stdio.h>\n",
    "\n",
    "// Comment to enable debug mode\n",
    "#define DEBUG\n",
    "\n",
    "int main() {\n",
    "    printf(\"Program started\\n\");\n",
    "\n",
    "#ifdef DEBUG\n",
    "    printf(\"Debug mode is ON\\n\");\n",
    "#else\n",
    "    printf(\"Debug mode is OFF\\n\");\n",
    "#endif\n",
    "    return 0;\n",
    "}\n",
    "main();"
   ]
  },
  {
   "cell_type": "markdown",
   "id": "803c3c57-51c7-4764-bea9-22af8508a64e",
   "metadata": {},
   "source": [
    "#### Parameterised macros \n",
    "\n",
    "A parameterised (function-like) macro accepts parameters and uses them in its replacement text. They act like inline functions, but the replacment is done textually by the pre-processor before compilation, preventing the need for actual function calls. \n",
    "\n",
    "The parameters may appear as many times as desired in the replacement text. "
   ]
  },
  {
   "cell_type": "code",
   "execution_count": 29,
   "id": "e2e49e2c-1cd5-4c16-be85-8460187b6e66",
   "metadata": {},
   "outputs": [
    {
     "name": "stdout",
     "output_type": "stream",
     "text": [
      "Sum: 8\n",
      "Sum: 10\n"
     ]
    }
   ],
   "source": [
    "#include <stdio.h>\n",
    "\n",
    "#define ADD(a, b) ((a) + (b))  // Parameterized macro\n",
    "\n",
    "int main() {\n",
    "    int x = 5, y = 3;\n",
    "\n",
    "    printf(\"Sum: %d\\n\", ADD(x, y));      // replaced by ((x) + (y))\n",
    "    printf(\"Sum: %d\\n\", ADD(2+3, 4+1));  // replaced by ((2+3) + (4+1)) = 10\n",
    "\n",
    "    return 0;\n",
    "}\n",
    "main();"
   ]
  },
  {
   "cell_type": "markdown",
   "id": "3489bbe9-0465-4a7a-a847-39bc36788f87",
   "metadata": {},
   "source": [
    "Using parameterised macros may make a program slightly faster, since a function call usually requires some overhead during program execution, but a macro invocation does not. Furthermore, macros are 'generic' - they can accept arguements of any type, provided that the resulting program is valid. \n",
    "\n",
    "However, this can also be a disadvantage, as arguements aren't checked or converted to the correct type by the pre-processor, whereas in a function, the compiler checks each arguement to see if it has the appropriate type. Since macros work as direct substitutions in code, it is important to always use brackets to the fullest extent possible to prevent any unexepected results.  "
   ]
  },
  {
   "cell_type": "code",
   "execution_count": null,
   "id": "07b3ca37-d6fc-4c47-9408-f18a4a19c1f5",
   "metadata": {},
   "outputs": [],
   "source": []
  }
 ],
 "metadata": {
  "kernelspec": {
   "display_name": "C++11",
   "language": "C++11",
   "name": "xcpp11"
  },
  "language_info": {
   "codemirror_mode": "text/x-c++src",
   "file_extension": ".cpp",
   "mimetype": "text/x-c++src",
   "name": "c++",
   "version": "11"
  }
 },
 "nbformat": 4,
 "nbformat_minor": 5
}
